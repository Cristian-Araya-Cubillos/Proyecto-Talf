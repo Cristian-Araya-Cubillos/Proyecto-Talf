{
 "cells": [
  {
   "cell_type": "code",
   "execution_count": 1,
   "id": "cd6e7c74-f2a1-41c8-9a09-7e373b75d78a",
   "metadata": {
    "scrolled": true
   },
   "outputs": [
    {
     "data": {
      "text/html": [
       "<div>\n",
       "<style scoped>\n",
       "    .dataframe tbody tr th:only-of-type {\n",
       "        vertical-align: middle;\n",
       "    }\n",
       "\n",
       "    .dataframe tbody tr th {\n",
       "        vertical-align: top;\n",
       "    }\n",
       "\n",
       "    .dataframe thead th {\n",
       "        text-align: right;\n",
       "    }\n",
       "</style>\n",
       "<table border=\"1\" class=\"dataframe\">\n",
       "  <thead>\n",
       "    <tr style=\"text-align: right;\">\n",
       "      <th></th>\n",
       "      <th>Id</th>\n",
       "      <th>Categoria</th>\n",
       "      <th>Nombre</th>\n",
       "      <th>Valoracion</th>\n",
       "      <th>Dificultad</th>\n",
       "      <th>Num_comensales</th>\n",
       "      <th>Tiempo</th>\n",
       "      <th>Tipo</th>\n",
       "      <th>Link_receta</th>\n",
       "      <th>Num_comentarios</th>\n",
       "      <th>Num_reviews</th>\n",
       "      <th>Fecha_modificacion</th>\n",
       "      <th>Ingredientes</th>\n",
       "    </tr>\n",
       "  </thead>\n",
       "  <tbody>\n",
       "    <tr>\n",
       "      <th>0</th>\n",
       "      <td>74138</td>\n",
       "      <td>Recetas de Aperitivos y tapas</td>\n",
       "      <td>Receta de Baleadas hondureñas</td>\n",
       "      <td>NaN</td>\n",
       "      <td>baja</td>\n",
       "      <td>2.0</td>\n",
       "      <td>10m</td>\n",
       "      <td>NaN</td>\n",
       "      <td>https://www.recetasgratis.net/receta-de-balead...</td>\n",
       "      <td>0</td>\n",
       "      <td>0</td>\n",
       "      <td>2020-04-06</td>\n",
       "      <td>4 trotillas de harina,2 tazas de frijoles negr...</td>\n",
       "    </tr>\n",
       "    <tr>\n",
       "      <th>1</th>\n",
       "      <td>74133</td>\n",
       "      <td>Recetas de Aperitivos y tapas</td>\n",
       "      <td>Receta de Tacos de carne molida</td>\n",
       "      <td>NaN</td>\n",
       "      <td>baja</td>\n",
       "      <td>4.0</td>\n",
       "      <td>30m</td>\n",
       "      <td>Plato principal</td>\n",
       "      <td>https://www.recetasgratis.net/receta-de-tacos-...</td>\n",
       "      <td>0</td>\n",
       "      <td>0</td>\n",
       "      <td>2020-03-27</td>\n",
       "      <td>500 gramos de carne molida,1 papa mediana,2 cu...</td>\n",
       "    </tr>\n",
       "    <tr>\n",
       "      <th>2</th>\n",
       "      <td>74154</td>\n",
       "      <td>Recetas de Aperitivos y tapas</td>\n",
       "      <td>Receta de Burritos norteños</td>\n",
       "      <td>NaN</td>\n",
       "      <td>muy baja</td>\n",
       "      <td>5.0</td>\n",
       "      <td>30m</td>\n",
       "      <td>Entrante</td>\n",
       "      <td>https://www.recetasgratis.net/receta-de-burrit...</td>\n",
       "      <td>0</td>\n",
       "      <td>0</td>\n",
       "      <td>2020-03-25</td>\n",
       "      <td>10 tortillas de harina para burritos,500 gramo...</td>\n",
       "    </tr>\n",
       "    <tr>\n",
       "      <th>3</th>\n",
       "      <td>74146</td>\n",
       "      <td>Recetas de Aperitivos y tapas</td>\n",
       "      <td>Receta de Croquetas de pollo caseras de la abuela</td>\n",
       "      <td>NaN</td>\n",
       "      <td>baja</td>\n",
       "      <td>4.0</td>\n",
       "      <td>45m</td>\n",
       "      <td>Entrante</td>\n",
       "      <td>https://www.recetasgratis.net/receta-de-croque...</td>\n",
       "      <td>0</td>\n",
       "      <td>0</td>\n",
       "      <td>2020-03-24</td>\n",
       "      <td>1 pechuga de pollo cocida y troceada,1 pellizc...</td>\n",
       "    </tr>\n",
       "    <tr>\n",
       "      <th>4</th>\n",
       "      <td>74081</td>\n",
       "      <td>Recetas de Aperitivos y tapas</td>\n",
       "      <td>Receta de Masa para empanadas fritas</td>\n",
       "      <td>NaN</td>\n",
       "      <td>baja</td>\n",
       "      <td>3.0</td>\n",
       "      <td>30m</td>\n",
       "      <td>Entrante</td>\n",
       "      <td>https://www.recetasgratis.net/receta-de-masa-p...</td>\n",
       "      <td>0</td>\n",
       "      <td>0</td>\n",
       "      <td>2020-03-03</td>\n",
       "      <td>3 tazas de harina de trigo (420 gramos),1 pizc...</td>\n",
       "    </tr>\n",
       "  </tbody>\n",
       "</table>\n",
       "</div>"
      ],
      "text/plain": [
       "      Id                      Categoria  \\\n",
       "0  74138  Recetas de Aperitivos y tapas   \n",
       "1  74133  Recetas de Aperitivos y tapas   \n",
       "2  74154  Recetas de Aperitivos y tapas   \n",
       "3  74146  Recetas de Aperitivos y tapas   \n",
       "4  74081  Recetas de Aperitivos y tapas   \n",
       "\n",
       "                                              Nombre  Valoracion Dificultad  \\\n",
       "0                      Receta de Baleadas hondureñas         NaN       baja   \n",
       "1                    Receta de Tacos de carne molida         NaN       baja   \n",
       "2                        Receta de Burritos norteños         NaN   muy baja   \n",
       "3  Receta de Croquetas de pollo caseras de la abuela         NaN       baja   \n",
       "4               Receta de Masa para empanadas fritas         NaN       baja   \n",
       "\n",
       "   Num_comensales Tiempo             Tipo  \\\n",
       "0             2.0    10m              NaN   \n",
       "1             4.0    30m  Plato principal   \n",
       "2             5.0    30m         Entrante   \n",
       "3             4.0    45m         Entrante   \n",
       "4             3.0    30m         Entrante   \n",
       "\n",
       "                                         Link_receta  Num_comentarios  \\\n",
       "0  https://www.recetasgratis.net/receta-de-balead...                0   \n",
       "1  https://www.recetasgratis.net/receta-de-tacos-...                0   \n",
       "2  https://www.recetasgratis.net/receta-de-burrit...                0   \n",
       "3  https://www.recetasgratis.net/receta-de-croque...                0   \n",
       "4  https://www.recetasgratis.net/receta-de-masa-p...                0   \n",
       "\n",
       "   Num_reviews Fecha_modificacion  \\\n",
       "0            0         2020-04-06   \n",
       "1            0         2020-03-27   \n",
       "2            0         2020-03-25   \n",
       "3            0         2020-03-24   \n",
       "4            0         2020-03-03   \n",
       "\n",
       "                                        Ingredientes  \n",
       "0  4 trotillas de harina,2 tazas de frijoles negr...  \n",
       "1  500 gramos de carne molida,1 papa mediana,2 cu...  \n",
       "2  10 tortillas de harina para burritos,500 gramo...  \n",
       "3  1 pechuga de pollo cocida y troceada,1 pellizc...  \n",
       "4  3 tazas de harina de trigo (420 gramos),1 pizc...  "
      ]
     },
     "execution_count": 1,
     "metadata": {},
     "output_type": "execute_result"
    }
   ],
   "source": [
    "import pandas as pd\n",
    "\n",
    "# Carga el archivo CSV con '|' como delimitador\n",
    "df = pd.read_csv('r.csv', sep='|')\n",
    "\n",
    "# Muestra las primeras filas del DataFrame\n",
    "df.head()\n"
   ]
  },
  {
   "cell_type": "code",
   "execution_count": 2,
   "id": "356a74d9-9c02-49ad-b350-432cd54b1890",
   "metadata": {},
   "outputs": [],
   "source": [
    "df = df.drop(\"Valoracion\", axis=1)\n",
    "df = df.drop(\"Num_comentarios\", axis=1)\n",
    "df = df.drop(\"Num_reviews\", axis=1)\n",
    "df = df.drop(\"Fecha_modificacion\", axis=1)\n",
    "df = df.drop(\"Tipo\", axis=1)"
   ]
  },
  {
   "cell_type": "code",
   "execution_count": 3,
   "id": "55586c66-94cf-4461-bce1-8efbe8db6ba1",
   "metadata": {},
   "outputs": [
    {
     "data": {
      "text/html": [
       "<div>\n",
       "<style scoped>\n",
       "    .dataframe tbody tr th:only-of-type {\n",
       "        vertical-align: middle;\n",
       "    }\n",
       "\n",
       "    .dataframe tbody tr th {\n",
       "        vertical-align: top;\n",
       "    }\n",
       "\n",
       "    .dataframe thead th {\n",
       "        text-align: right;\n",
       "    }\n",
       "</style>\n",
       "<table border=\"1\" class=\"dataframe\">\n",
       "  <thead>\n",
       "    <tr style=\"text-align: right;\">\n",
       "      <th></th>\n",
       "      <th>Id</th>\n",
       "      <th>Categoria</th>\n",
       "      <th>Nombre</th>\n",
       "      <th>Dificultad</th>\n",
       "      <th>Num_comensales</th>\n",
       "      <th>Tiempo</th>\n",
       "      <th>Link_receta</th>\n",
       "      <th>Ingredientes</th>\n",
       "    </tr>\n",
       "  </thead>\n",
       "  <tbody>\n",
       "    <tr>\n",
       "      <th>0</th>\n",
       "      <td>74138</td>\n",
       "      <td>Recetas de Aperitivos y tapas</td>\n",
       "      <td>Receta de Baleadas hondureñas</td>\n",
       "      <td>baja</td>\n",
       "      <td>2.0</td>\n",
       "      <td>10m</td>\n",
       "      <td>https://www.recetasgratis.net/receta-de-balead...</td>\n",
       "      <td>4 trotillas de harina,2 tazas de frijoles negr...</td>\n",
       "    </tr>\n",
       "    <tr>\n",
       "      <th>1</th>\n",
       "      <td>74133</td>\n",
       "      <td>Recetas de Aperitivos y tapas</td>\n",
       "      <td>Receta de Tacos de carne molida</td>\n",
       "      <td>baja</td>\n",
       "      <td>4.0</td>\n",
       "      <td>30m</td>\n",
       "      <td>https://www.recetasgratis.net/receta-de-tacos-...</td>\n",
       "      <td>500 gramos de carne molida,1 papa mediana,2 cu...</td>\n",
       "    </tr>\n",
       "    <tr>\n",
       "      <th>2</th>\n",
       "      <td>74154</td>\n",
       "      <td>Recetas de Aperitivos y tapas</td>\n",
       "      <td>Receta de Burritos norteños</td>\n",
       "      <td>muy baja</td>\n",
       "      <td>5.0</td>\n",
       "      <td>30m</td>\n",
       "      <td>https://www.recetasgratis.net/receta-de-burrit...</td>\n",
       "      <td>10 tortillas de harina para burritos,500 gramo...</td>\n",
       "    </tr>\n",
       "    <tr>\n",
       "      <th>3</th>\n",
       "      <td>74146</td>\n",
       "      <td>Recetas de Aperitivos y tapas</td>\n",
       "      <td>Receta de Croquetas de pollo caseras de la abuela</td>\n",
       "      <td>baja</td>\n",
       "      <td>4.0</td>\n",
       "      <td>45m</td>\n",
       "      <td>https://www.recetasgratis.net/receta-de-croque...</td>\n",
       "      <td>1 pechuga de pollo cocida y troceada,1 pellizc...</td>\n",
       "    </tr>\n",
       "    <tr>\n",
       "      <th>4</th>\n",
       "      <td>74081</td>\n",
       "      <td>Recetas de Aperitivos y tapas</td>\n",
       "      <td>Receta de Masa para empanadas fritas</td>\n",
       "      <td>baja</td>\n",
       "      <td>3.0</td>\n",
       "      <td>30m</td>\n",
       "      <td>https://www.recetasgratis.net/receta-de-masa-p...</td>\n",
       "      <td>3 tazas de harina de trigo (420 gramos),1 pizc...</td>\n",
       "    </tr>\n",
       "  </tbody>\n",
       "</table>\n",
       "</div>"
      ],
      "text/plain": [
       "      Id                      Categoria  \\\n",
       "0  74138  Recetas de Aperitivos y tapas   \n",
       "1  74133  Recetas de Aperitivos y tapas   \n",
       "2  74154  Recetas de Aperitivos y tapas   \n",
       "3  74146  Recetas de Aperitivos y tapas   \n",
       "4  74081  Recetas de Aperitivos y tapas   \n",
       "\n",
       "                                              Nombre Dificultad  \\\n",
       "0                      Receta de Baleadas hondureñas       baja   \n",
       "1                    Receta de Tacos de carne molida       baja   \n",
       "2                        Receta de Burritos norteños   muy baja   \n",
       "3  Receta de Croquetas de pollo caseras de la abuela       baja   \n",
       "4               Receta de Masa para empanadas fritas       baja   \n",
       "\n",
       "   Num_comensales Tiempo                                        Link_receta  \\\n",
       "0             2.0    10m  https://www.recetasgratis.net/receta-de-balead...   \n",
       "1             4.0    30m  https://www.recetasgratis.net/receta-de-tacos-...   \n",
       "2             5.0    30m  https://www.recetasgratis.net/receta-de-burrit...   \n",
       "3             4.0    45m  https://www.recetasgratis.net/receta-de-croque...   \n",
       "4             3.0    30m  https://www.recetasgratis.net/receta-de-masa-p...   \n",
       "\n",
       "                                        Ingredientes  \n",
       "0  4 trotillas de harina,2 tazas de frijoles negr...  \n",
       "1  500 gramos de carne molida,1 papa mediana,2 cu...  \n",
       "2  10 tortillas de harina para burritos,500 gramo...  \n",
       "3  1 pechuga de pollo cocida y troceada,1 pellizc...  \n",
       "4  3 tazas de harina de trigo (420 gramos),1 pizc...  "
      ]
     },
     "execution_count": 3,
     "metadata": {},
     "output_type": "execute_result"
    }
   ],
   "source": [
    "df.head()"
   ]
  },
  {
   "cell_type": "code",
   "execution_count": 4,
   "id": "a1c30d36-a303-49bc-bb7b-a2d4be3dee99",
   "metadata": {},
   "outputs": [],
   "source": [
    "df = df.dropna(subset=[\"Ingredientes\"])"
   ]
  },
  {
   "cell_type": "code",
   "execution_count": 5,
   "id": "b98c9ba1-7c72-4d95-8edd-a3ada123bcce",
   "metadata": {
    "scrolled": true
   },
   "outputs": [
    {
     "data": {
      "text/plain": [
       "Id                   0\n",
       "Categoria            0\n",
       "Nombre               0\n",
       "Dificultad        7386\n",
       "Num_comensales    9305\n",
       "Tiempo            9307\n",
       "Link_receta          0\n",
       "Ingredientes         0\n",
       "dtype: int64"
      ]
     },
     "execution_count": 5,
     "metadata": {},
     "output_type": "execute_result"
    }
   ],
   "source": [
    "df.isnull().sum()"
   ]
  },
  {
   "cell_type": "code",
   "execution_count": 6,
   "id": "7110a8a6-e281-4fed-8aa9-ac11e8eab3df",
   "metadata": {},
   "outputs": [
    {
     "name": "stdout",
     "output_type": "stream",
     "text": [
      "<class 'pandas.core.frame.DataFrame'>\n",
      "Index: 22150 entries, 0 to 22373\n",
      "Data columns (total 8 columns):\n",
      " #   Column          Non-Null Count  Dtype  \n",
      "---  ------          --------------  -----  \n",
      " 0   Id              22150 non-null  int64  \n",
      " 1   Categoria       22150 non-null  object \n",
      " 2   Nombre          22150 non-null  object \n",
      " 3   Dificultad      14764 non-null  object \n",
      " 4   Num_comensales  12845 non-null  float64\n",
      " 5   Tiempo          12843 non-null  object \n",
      " 6   Link_receta     22150 non-null  object \n",
      " 7   Ingredientes    22150 non-null  object \n",
      "dtypes: float64(1), int64(1), object(6)\n",
      "memory usage: 1.5+ MB\n"
     ]
    }
   ],
   "source": [
    "df.info()"
   ]
  },
  {
   "cell_type": "code",
   "execution_count": 7,
   "id": "b7bad794-8976-4a53-8dc1-ce908ce585c5",
   "metadata": {},
   "outputs": [
    {
     "data": {
      "text/plain": [
       "(22150, 8)"
      ]
     },
     "execution_count": 7,
     "metadata": {},
     "output_type": "execute_result"
    }
   ],
   "source": [
    "df.shape"
   ]
  },
  {
   "cell_type": "code",
   "execution_count": 8,
   "id": "b8e50a5d-4f3a-4d6a-9c61-c77fc878b93a",
   "metadata": {},
   "outputs": [],
   "source": [
    "import pandas as pd\n",
    "from antlr4 import *\n",
    "from recipesLexer import recipesLexer\n",
    "from recipesParser import recipesParser"
   ]
  },
  {
   "cell_type": "code",
   "execution_count": 9,
   "id": "7975ea20-c0d9-4daf-a27f-6078f7d71ae3",
   "metadata": {},
   "outputs": [],
   "source": [
    "# Definir una función para usar el parser de ANTLR4\n",
    "def parse_ingredients(query):\n",
    "    input_stream = InputStream(query)\n",
    "    lexer = recipesLexer(input_stream)\n",
    "    stream = CommonTokenStream(lexer)\n",
    "    parser = recipesParser(stream)\n",
    "    tree = parser.query()\n",
    "    \n",
    "    ingredients = []\n",
    "    for child in tree.getChildren():\n",
    "        if isinstance(child, recipesParser.IngredientContext):\n",
    "            ingredients.append(child.getText().lower())\n",
    "    \n",
    "    return ingredients"
   ]
  },
  {
   "cell_type": "code",
   "execution_count": 10,
   "id": "803a7b7c-2240-472e-87a6-9639b773c10d",
   "metadata": {},
   "outputs": [],
   "source": [
    "# Función para filtrar recetas basadas en los ingredientes ingresados por el usuario\n",
    "def filtrar_recetas(query, df):\n",
    "    ingredientes = parse_ingredients(query)\n",
    "    recetas_filtradas = df[df['Ingredientes'].apply(lambda x: all(ing in x.lower() for ing in ingredientes))]\n",
    "    return recetas_filtradas\n",
    "\n",
    "# Ejemplo de consulta ingresada por el usuario\n",
    "consulta_usuario = \"tomate, queso, albahaca, pollo\""
   ]
  },
  {
   "cell_type": "code",
   "execution_count": 11,
   "id": "26adf275-473d-49fb-9180-62698fc15363",
   "metadata": {},
   "outputs": [
    {
     "name": "stdout",
     "output_type": "stream",
     "text": [
      "encontro\n"
     ]
    }
   ],
   "source": [
    "# Filtrar recetas\n",
    "if 'Ingredientes' in df.columns:\n",
    "    recetas = filtrar_recetas(consulta_usuario, df)\n",
    "    # Ajustar 'title' según el nombre de la columna en tu DataFrame, por ejemplo 'recipe_name'\n",
    "    print('encontro')\n",
    "else:\n",
    "    print(\"La columna 'all_ingredients' no existe en el DataFrame. Asegúrate de haberla creado correctamente.\")"
   ]
  },
  {
   "cell_type": "code",
   "execution_count": 12,
   "id": "3d4fddf6-7f05-4da2-a556-930d7965259d",
   "metadata": {},
   "outputs": [],
   "source": [
    "df_recetas = pd.DataFrame(recetas, columns=['Nombre'])\n"
   ]
  },
  {
   "cell_type": "code",
   "execution_count": 13,
   "id": "2b5c47d3-f133-4896-9489-fc5cf93a5056",
   "metadata": {},
   "outputs": [],
   "source": [
    "df_rec = pd.DataFrame(recetas, columns=['Ingredientes'])\n"
   ]
  },
  {
   "cell_type": "code",
   "execution_count": 14,
   "id": "f3175fa0-24b2-447f-a112-23d6d287822e",
   "metadata": {},
   "outputs": [],
   "source": [
    "def buscar_recetas():\n",
    "    query = \"\".join(selected_ingredients)\n",
    "    print(\"QUERY: \"+query)\n",
    "    if 'Ingredientes' in df.columns:\n",
    "        recetas = search_recipes(query, df)\n",
    "        # Limpiar el Treeview\n",
    "        for row in tree.get_children():\n",
    "            tree.delete(row)\n",
    "        if not recetas.empty:\n",
    "            categorias = recetas['Categoria'].unique()\n",
    "            for categoria in categorias:\n",
    "                parent = tree.insert(\"\", tk.END, values=(categoria, \"\", \"\"), open=True)\n",
    "                recetas_categoria = recetas[recetas['Categoria'] == categoria]\n",
    "                for index, row in recetas_categoria.iterrows():\n",
    "                    tree.insert(parent, tk.END, values=(\"\", row['Nombre'], row['Link_receta']))\n",
    "            query = \"\"\n",
    "        else:\n",
    "            messagebox.showinfo(\"Sin resultados\", \"No se encontraron recetas con los ingredientes seleccionados.\")\n",
    "            query = \"\"\n",
    "    else:\n",
    "        messagebox.showerror(\"Error\", \"La columna 'Ingredientes' no existe en el DataFrame.\")\n",
    "        query = \"\"\n"
   ]
  },
  {
   "cell_type": "code",
   "execution_count": 31,
   "id": "8d76e11f-09e5-4393-9fe4-f1c6e9571803",
   "metadata": {},
   "outputs": [],
   "source": [
    "import pandas as pd\n",
    "from antlr4 import *\n",
    "from recipesLexer import recipesLexer\n",
    "from recipesParser import recipesParser\n",
    "from recipesListener import recipesListener\n",
    "import re\n",
    "# Función para analizar la consulta usando ANTLR\n",
    "def parse_query(query):\n",
    "    input_stream = InputStream(query)\n",
    "    lexer = recipesLexer(input_stream)\n",
    "    stream = CommonTokenStream(lexer)\n",
    "    parser = recipesParser(stream)\n",
    "    tree = parser.query()\n",
    "    listener = RecipeListener()\n",
    "    walker = ParseTreeWalker()\n",
    "    walker.walk(listener, tree)\n",
    "    return listener\n",
    "\n",
    "# Listener para extraer los ingredientes de la consulta\n",
    "class RecipeListener(recipesListener):\n",
    "    def __init__(self):\n",
    "        self.ingredients = []\n",
    "        self.logical_ops = []\n",
    "        self.current_ingredient = []\n",
    "\n",
    "    def exitIngredient(self, ctx: recipesParser.IngredientContext):\n",
    "        ingredient = ctx.getText()\n",
    "        self.current_ingredient.append(ingredient)\n",
    "\n",
    "    def exitCondition(self, ctx: recipesParser.ConditionContext):\n",
    "        if self.current_ingredient:\n",
    "            self.ingredients.append(\" \".join(self.current_ingredient))\n",
    "            self.current_ingredient = []\n",
    "\n",
    "    def exitQuery(self, ctx: recipesParser.QueryContext):\n",
    "        for child in ctx.getChildren():\n",
    "            if isinstance(child, TerminalNode) and child.getText() in [\",\", \"|\"]:\n",
    "                self.logical_ops.append(child.getText())\n",
    "\n",
    "# Función para buscar recetas en el DataFrame\n",
    "def search_recipes(query, df):\n",
    "    listener = parse_query(query)\n",
    "    print(listener)\n",
    "    ingredients = listener.ingredients\n",
    "    logical_ops = listener.logical_ops\n",
    "    print(ingredients)\n",
    "    def contains_ingredient(ingredient, recipe_ingredients):\n",
    "        # Agregar un espacio entre el número y la palabra si el número está seguido de letras\n",
    "        ingredient_pattern = re.sub(r'(\\d+)([a-zA-Z])', r'\\1 \\2', ingredient.lower())\n",
    "        return bool(re.search(r'\\b' + re.escape(ingredient_pattern) + r'\\b', recipe_ingredients.lower()))\n",
    "\n",
    "    # Inicialmente, seleccionamos todas las recetas\n",
    "    filtered_df = df.copy()\n",
    "\n",
    "    if not logical_ops:\n",
    "        for ingredient in ingredients:\n",
    "            filtered_df = filtered_df[filtered_df['Ingredientes'].apply(lambda x: contains_ingredient(ingredient, x))]\n",
    "    else:\n",
    "        result_mask = None\n",
    "        for i, ingredient in enumerate(ingredients):\n",
    "            ingredient_mask = df['Ingredientes'].apply(lambda x: contains_ingredient(ingredient, x))\n",
    "            if result_mask is None:\n",
    "                result_mask = ingredient_mask\n",
    "            else:\n",
    "                if logical_ops[i - 1] == ',':\n",
    "                    result_mask = result_mask & ingredient_mask\n",
    "                elif logical_ops[i - 1] == '|':\n",
    "                    result_mask = result_mask | ingredient_mask\n",
    "\n",
    "        filtered_df = df[result_mask]\n",
    "\n",
    "    return filtered_df"
   ]
  },
  {
   "cell_type": "code",
   "execution_count": 32,
   "id": "32ffb9fa",
   "metadata": {},
   "outputs": [],
   "source": [
    "import tkinter as tk\n",
    "from tkinter import ttk\n",
    "from tkinter import messagebox\n",
    "from tkinter import scrolledtext\n",
    "import webbrowser"
   ]
  },
  {
   "cell_type": "code",
   "execution_count": 33,
   "id": "ee22adcd-6f34-458a-a523-2c64acecd10a",
   "metadata": {},
   "outputs": [],
   "source": [
    "# Función para agregar ingredientes y desactivar botones\n",
    "def add_ingredient(ingredient):\n",
    "    global selected_ingredients\n",
    "    if ingredient in [\",\", \"|\", \"(\", \")\"]:\n",
    "        selected_ingredients += ingredient  # Añadir directamente el separador\n",
    "    else:\n",
    "        if ingredient not in selected_ingredients:\n",
    "            selected_ingredients.append(ingredient)\n",
    "    update_ingredients_label()"
   ]
  },
  {
   "cell_type": "code",
   "execution_count": 34,
   "id": "9d748f3b-9a82-46f3-9580-ba1af3bc3a0c",
   "metadata": {},
   "outputs": [],
   "source": [
    "def convert_logical_operators(query):\n",
    "    query = query.replace('AND', ',')\n",
    "    query = query.replace('OR', '|')\n",
    "    return query"
   ]
  },
  {
   "cell_type": "code",
   "execution_count": 35,
   "id": "f2d7089b-2fad-47f5-bc74-970e1bed1a60",
   "metadata": {},
   "outputs": [],
   "source": [
    "def update_ingredients_label():\n",
    "    ingredients_label.config(text=\"Ingredientes seleccionados: \" + \"\".join(selected_ingredients))"
   ]
  },
  {
   "cell_type": "code",
   "execution_count": 36,
   "id": "096fe47a-80da-40d4-ae54-2a5ee50533e8",
   "metadata": {},
   "outputs": [],
   "source": [
    "def on_treeview_click(event):\n",
    "    item = tree.selection()\n",
    "    if item:\n",
    "        item = item[0]\n",
    "        link = tree.item(item, \"values\")[2]\n",
    "        webbrowser.open(link)"
   ]
  },
  {
   "cell_type": "code",
   "execution_count": 37,
   "id": "fffad728-7af3-4d71-a588-de0606da6308",
   "metadata": {},
   "outputs": [
    {
     "data": {
      "text/plain": [
       "''"
      ]
     },
     "execution_count": 37,
     "metadata": {},
     "output_type": "execute_result"
    }
   ],
   "source": [
    "# Crear ventana principal\n",
    "window = tk.Tk()\n",
    "window.title(\"Aplicación de Recetas\")"
   ]
  },
  {
   "cell_type": "code",
   "execution_count": 38,
   "id": "98c1a861-21ae-4470-9fdd-a8d5d94389a3",
   "metadata": {},
   "outputs": [],
   "source": [
    "# Lista para almacenar los ingredientes seleccionados\n",
    "selected_ingredients = []"
   ]
  },
  {
   "cell_type": "code",
   "execution_count": 39,
   "id": "1e3b4af0-4b76-4062-b4c1-20c21e98520e",
   "metadata": {},
   "outputs": [],
   "source": [
    "# Lista de ingredientes disponibles\n",
    "available_ingredients = [\"Pollo\", \"Zanahoria\", \"Papa\", \"Tomate\", \"Cebolla\",\"carne\", \",\", \"|\", \"(\", \")\",\n",
    "                        \"1 \",\"2 \",\"3 \",\"4 \",\"5 \",\"6 \",\"7 \",\"8 \",\"9 \",\"0 \"]"
   ]
  },
  {
   "cell_type": "code",
   "execution_count": 40,
   "id": "6ecce6c9-a8e0-46a5-8271-af1da434e21a",
   "metadata": {},
   "outputs": [],
   "source": [
    "# Crear y posicionar los widgets de manera dinámica\n",
    "for idx, ingredient in enumerate(available_ingredients):\n",
    "    button = tk.Button(window, text=ingredient, command=lambda ingr=ingredient: add_ingredient(ingr))\n",
    "    button.grid(row=0, column=idx, padx=5, pady=5, sticky=\"ew\")"
   ]
  },
  {
   "cell_type": "code",
   "execution_count": 41,
   "id": "bb27a459-8e4f-4fdf-ae39-7e1763030234",
   "metadata": {},
   "outputs": [],
   "source": [
    "ingredients_label = tk.Label(window, text=\"Ingredientes seleccionados: \")\n",
    "\n",
    "button_buscar = tk.Button(window, text=\"Buscar\", command=buscar_recetas)\n",
    "\n",
    "result_label = tk.Label(window, text=\"Resultados:\")"
   ]
  },
  {
   "cell_type": "code",
   "execution_count": 42,
   "id": "5d629288-1215-4192-902a-2351b01066aa",
   "metadata": {},
   "outputs": [
    {
     "data": {
      "text/plain": [
       "{}"
      ]
     },
     "execution_count": 42,
     "metadata": {},
     "output_type": "execute_result"
    }
   ],
   "source": [
    "# Crear Treeview para mostrar los resultados\n",
    "tree = ttk.Treeview(window, columns=(\"Categoria\", \"Nombre\", \"Link_receta\"), show='headings')\n",
    "tree.heading(\"Categoria\", text=\"Categoria\")\n",
    "tree.heading(\"Nombre\", text=\"Nombre\")\n",
    "tree.heading(\"Link_receta\", text=\"Link_receta\")\n",
    "tree.column(\"Categoria\", width=100)\n",
    "tree.column(\"Nombre\", width=200)\n",
    "tree.column(\"Link_receta\", width=200)"
   ]
  },
  {
   "cell_type": "code",
   "execution_count": 43,
   "id": "d0dd9aec-cc6b-4149-916e-30dcee22c377",
   "metadata": {},
   "outputs": [
    {
     "data": {
      "text/plain": [
       "'1931995967488on_treeview_click'"
      ]
     },
     "execution_count": 43,
     "metadata": {},
     "output_type": "execute_result"
    }
   ],
   "source": [
    "# Añadir evento de clic al Treeview\n",
    "tree.bind(\"<Double-1>\", on_treeview_click)"
   ]
  },
  {
   "cell_type": "code",
   "execution_count": 44,
   "id": "5b015883-27c2-4fb5-b4eb-78115aa24fbb",
   "metadata": {},
   "outputs": [],
   "source": [
    "# Posicionar widgets en la ventana usando grid\n",
    "ingredients_label.grid(row=1, column=0, columnspan=len(available_ingredients), padx=5, pady=5, sticky=\"ew\")\n",
    "button_buscar.grid(row=2, column=0, columnspan=len(available_ingredients), padx=5, pady=5, sticky=\"ew\")\n",
    "result_label.grid(row=3, column=0, columnspan=len(available_ingredients), padx=5, pady=5, sticky=\"ew\")\n",
    "tree.grid(row=4, column=0, columnspan=len(available_ingredients), padx=5, pady=5, sticky=\"nsew\")"
   ]
  },
  {
   "cell_type": "code",
   "execution_count": 45,
   "id": "54b7f003-980d-4c78-9f83-f64d790af02f",
   "metadata": {},
   "outputs": [],
   "source": [
    "# Configurar que las columnas y filas se expandan\n",
    "for i in range(len(available_ingredients)):\n",
    "    window.grid_columnconfigure(i, weight=1)\n",
    "window.grid_rowconfigure(4, weight=1)"
   ]
  },
  {
   "cell_type": "code",
   "execution_count": 46,
   "id": "a2bc328f-a34f-4186-8c7e-b4b1db3f3765",
   "metadata": {},
   "outputs": [
    {
     "name": "stdout",
     "output_type": "stream",
     "text": [
      "QUERY: (carne|Pollo)\n",
      "<__main__.RecipeListener object at 0x000001C1D570D540>\n",
      "['carne', 'Pollo']\n",
      "QUERY: (carne|Pollo),2 Tomate\n",
      "<__main__.RecipeListener object at 0x000001C1D570F9D0>\n",
      "['carne', 'Pollo', '2Tomate']\n"
     ]
    }
   ],
   "source": [
    "# Iniciar el bucle principal de la ventana\n",
    "window.mainloop()"
   ]
  },
  {
   "cell_type": "markdown",
   "id": "031e2089-d1b6-4f6c-bf13-2a1a1df98be0",
   "metadata": {},
   "source": [
    "# Probando"
   ]
  },
  {
   "cell_type": "markdown",
   "id": "289844b7-5b40-4421-835e-60b616e7afaf",
   "metadata": {},
   "source": [
    "#Crear ventana principal\n",
    "window = tk.Tk()\n",
    "window.title(\"Aplicación de Recetas\")\n",
    "\n",
    "#Lista para almacenar los ingredientes seleccionados\n",
    "selected_ingredients = []\n",
    "\n",
    "#Lista de ingredientes disponibles\n",
    "available_ingredients = [\"Pollo\", \"Zanahoria\", \"Papa\", \"Tomate\", \"Cebolla\",\"carne\"]\n",
    "\n",
    "# Crear y posicionar los widgets de manera dinámica\n",
    "for idx, ingredient in enumerate(available_ingredients):\n",
    "    button = tk.Button(window, text=ingredient, command=lambda ingr=ingredient: add_ingredient(ingr))\n",
    "    button.grid(row=0, column=idx, padx=5, pady=5, sticky=\"ew\")\n",
    "ingredients_label = tk.Label(window, text=\"Ingredientes seleccionados: \")\n",
    "\n",
    "button_comma = tk.Button(window, text=\",\", command=lambda: current_separator.set(\",\"))\n",
    "button_comma.grid(row=0, column=len(available_ingredients), padx=5, pady=5, sticky=\"ew\")\n",
    "\n",
    "button_pipe = tk.Button(window, text=\"|\", command=lambda: current_separator.set(\"|\"))\n",
    "button_pipe.grid(row=0, column=len(available_ingredients) + 1, padx=5, pady=5, sticky=\"ew\")\n",
    "\n",
    "button_buscar = tk.Button(window, text=\"Buscar\", command=buscar_recetas)\n",
    "\n",
    "result_label = tk.Label(window, text=\"Resultados:\")\n",
    "\n",
    "# Crear Treeview para mostrar los resultados\n",
    "tree = ttk.Treeview(window, columns=(\"Categoria\", \"Nombre\", \"Link_receta\"), show='headings')\n",
    "tree.heading(\"Categoria\", text=\"Categoria\")\n",
    "tree.heading(\"Nombre\", text=\"Nombre\")\n",
    "tree.heading(\"Link_receta\", text=\"Link_receta\")\n",
    "tree.column(\"Categoria\", width=100)\n",
    "tree.column(\"Nombre\", width=200)\n",
    "tree.column(\"Link_receta\", width=200)\n",
    "\n",
    "#Añadir evento de clic al Treeview\n",
    "tree.bind(\"<Double-1>\", on_treeview_click)\n",
    "\n",
    "# Posicionar widgets en la ventana usando grid\n",
    "ingredients_label.grid(row=1, column=0, columnspan=len(available_ingredients), padx=5, pady=5, sticky=\"ew\")\n",
    "button_buscar.grid(row=2, column=0, columnspan=len(available_ingredients), padx=5, pady=5, sticky=\"ew\")\n",
    "result_label.grid(row=3, column=0, columnspan=len(available_ingredients), padx=5, pady=5, sticky=\"ew\")\n",
    "tree.grid(row=4, column=0, columnspan=len(available_ingredients), padx=5, pady=5, sticky=\"nsew\")\n",
    "\n",
    "# Configurar que las columnas y filas se expandan\n",
    "for i in range(len(available_ingredients)):\n",
    "    window.grid_columnconfigure(i, weight=1)\n",
    "window.grid_rowconfigure(4, weight=1)\n",
    "\n",
    "#Iniciar el bucle principal de la ventana\n",
    "window.mainloop()"
   ]
  },
  {
   "cell_type": "code",
   "execution_count": null,
   "id": "cd843699-3992-4fd1-9c24-0368b840a073",
   "metadata": {},
   "outputs": [],
   "source": []
  },
  {
   "cell_type": "code",
   "execution_count": null,
   "id": "d6ade781-04c4-4d0c-988a-5d5898619703",
   "metadata": {},
   "outputs": [],
   "source": []
  },
  {
   "cell_type": "code",
   "execution_count": null,
   "id": "cd20a28f-3f97-494a-98c0-4f2d3ce93630",
   "metadata": {},
   "outputs": [],
   "source": []
  },
  {
   "cell_type": "code",
   "execution_count": null,
   "id": "af7efabc-f5cb-40da-a25f-6a4de6e7b64e",
   "metadata": {},
   "outputs": [],
   "source": []
  }
 ],
 "metadata": {
  "kernelspec": {
   "display_name": "Python 3 (ipykernel)",
   "language": "python",
   "name": "python3"
  },
  "language_info": {
   "codemirror_mode": {
    "name": "ipython",
    "version": 3
   },
   "file_extension": ".py",
   "mimetype": "text/x-python",
   "name": "python",
   "nbconvert_exporter": "python",
   "pygments_lexer": "ipython3",
   "version": "3.10.12"
  }
 },
 "nbformat": 4,
 "nbformat_minor": 5
}
