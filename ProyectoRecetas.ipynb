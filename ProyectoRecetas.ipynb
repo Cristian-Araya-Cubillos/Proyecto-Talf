{
 "cells": [
  {
   "cell_type": "code",
   "execution_count": 1,
   "id": "cd6e7c74-f2a1-41c8-9a09-7e373b75d78a",
   "metadata": {
    "scrolled": true
   },
   "outputs": [
    {
     "data": {
      "text/html": [
       "<div>\n",
       "<style scoped>\n",
       "    .dataframe tbody tr th:only-of-type {\n",
       "        vertical-align: middle;\n",
       "    }\n",
       "\n",
       "    .dataframe tbody tr th {\n",
       "        vertical-align: top;\n",
       "    }\n",
       "\n",
       "    .dataframe thead th {\n",
       "        text-align: right;\n",
       "    }\n",
       "</style>\n",
       "<table border=\"1\" class=\"dataframe\">\n",
       "  <thead>\n",
       "    <tr style=\"text-align: right;\">\n",
       "      <th></th>\n",
       "      <th>Id</th>\n",
       "      <th>Categoria</th>\n",
       "      <th>Nombre</th>\n",
       "      <th>Valoracion</th>\n",
       "      <th>Dificultad</th>\n",
       "      <th>Num_comensales</th>\n",
       "      <th>Tiempo</th>\n",
       "      <th>Tipo</th>\n",
       "      <th>Link_receta</th>\n",
       "      <th>Num_comentarios</th>\n",
       "      <th>Num_reviews</th>\n",
       "      <th>Fecha_modificacion</th>\n",
       "      <th>Ingredientes</th>\n",
       "    </tr>\n",
       "  </thead>\n",
       "  <tbody>\n",
       "    <tr>\n",
       "      <th>0</th>\n",
       "      <td>74138</td>\n",
       "      <td>Recetas de Aperitivos y tapas</td>\n",
       "      <td>Receta de Baleadas hondureñas</td>\n",
       "      <td>NaN</td>\n",
       "      <td>baja</td>\n",
       "      <td>2.0</td>\n",
       "      <td>10m</td>\n",
       "      <td>NaN</td>\n",
       "      <td>https://www.recetasgratis.net/receta-de-balead...</td>\n",
       "      <td>0</td>\n",
       "      <td>0</td>\n",
       "      <td>2020-04-06</td>\n",
       "      <td>4 trotillas de harina,2 tazas de frijoles negr...</td>\n",
       "    </tr>\n",
       "    <tr>\n",
       "      <th>1</th>\n",
       "      <td>74133</td>\n",
       "      <td>Recetas de Aperitivos y tapas</td>\n",
       "      <td>Receta de Tacos de carne molida</td>\n",
       "      <td>NaN</td>\n",
       "      <td>baja</td>\n",
       "      <td>4.0</td>\n",
       "      <td>30m</td>\n",
       "      <td>Plato principal</td>\n",
       "      <td>https://www.recetasgratis.net/receta-de-tacos-...</td>\n",
       "      <td>0</td>\n",
       "      <td>0</td>\n",
       "      <td>2020-03-27</td>\n",
       "      <td>500 gramos de carne molida,1 papa mediana,2 cu...</td>\n",
       "    </tr>\n",
       "    <tr>\n",
       "      <th>2</th>\n",
       "      <td>74154</td>\n",
       "      <td>Recetas de Aperitivos y tapas</td>\n",
       "      <td>Receta de Burritos norteños</td>\n",
       "      <td>NaN</td>\n",
       "      <td>muy baja</td>\n",
       "      <td>5.0</td>\n",
       "      <td>30m</td>\n",
       "      <td>Entrante</td>\n",
       "      <td>https://www.recetasgratis.net/receta-de-burrit...</td>\n",
       "      <td>0</td>\n",
       "      <td>0</td>\n",
       "      <td>2020-03-25</td>\n",
       "      <td>10 tortillas de harina para burritos,500 gramo...</td>\n",
       "    </tr>\n",
       "    <tr>\n",
       "      <th>3</th>\n",
       "      <td>74146</td>\n",
       "      <td>Recetas de Aperitivos y tapas</td>\n",
       "      <td>Receta de Croquetas de pollo caseras de la abuela</td>\n",
       "      <td>NaN</td>\n",
       "      <td>baja</td>\n",
       "      <td>4.0</td>\n",
       "      <td>45m</td>\n",
       "      <td>Entrante</td>\n",
       "      <td>https://www.recetasgratis.net/receta-de-croque...</td>\n",
       "      <td>0</td>\n",
       "      <td>0</td>\n",
       "      <td>2020-03-24</td>\n",
       "      <td>1 pechuga de pollo cocida y troceada,1 pellizc...</td>\n",
       "    </tr>\n",
       "    <tr>\n",
       "      <th>4</th>\n",
       "      <td>74081</td>\n",
       "      <td>Recetas de Aperitivos y tapas</td>\n",
       "      <td>Receta de Masa para empanadas fritas</td>\n",
       "      <td>NaN</td>\n",
       "      <td>baja</td>\n",
       "      <td>3.0</td>\n",
       "      <td>30m</td>\n",
       "      <td>Entrante</td>\n",
       "      <td>https://www.recetasgratis.net/receta-de-masa-p...</td>\n",
       "      <td>0</td>\n",
       "      <td>0</td>\n",
       "      <td>2020-03-03</td>\n",
       "      <td>3 tazas de harina de trigo (420 gramos),1 pizc...</td>\n",
       "    </tr>\n",
       "  </tbody>\n",
       "</table>\n",
       "</div>"
      ],
      "text/plain": [
       "      Id                      Categoria  \\\n",
       "0  74138  Recetas de Aperitivos y tapas   \n",
       "1  74133  Recetas de Aperitivos y tapas   \n",
       "2  74154  Recetas de Aperitivos y tapas   \n",
       "3  74146  Recetas de Aperitivos y tapas   \n",
       "4  74081  Recetas de Aperitivos y tapas   \n",
       "\n",
       "                                              Nombre  Valoracion Dificultad  \\\n",
       "0                      Receta de Baleadas hondureñas         NaN       baja   \n",
       "1                    Receta de Tacos de carne molida         NaN       baja   \n",
       "2                        Receta de Burritos norteños         NaN   muy baja   \n",
       "3  Receta de Croquetas de pollo caseras de la abuela         NaN       baja   \n",
       "4               Receta de Masa para empanadas fritas         NaN       baja   \n",
       "\n",
       "   Num_comensales Tiempo             Tipo  \\\n",
       "0             2.0    10m              NaN   \n",
       "1             4.0    30m  Plato principal   \n",
       "2             5.0    30m         Entrante   \n",
       "3             4.0    45m         Entrante   \n",
       "4             3.0    30m         Entrante   \n",
       "\n",
       "                                         Link_receta  Num_comentarios  \\\n",
       "0  https://www.recetasgratis.net/receta-de-balead...                0   \n",
       "1  https://www.recetasgratis.net/receta-de-tacos-...                0   \n",
       "2  https://www.recetasgratis.net/receta-de-burrit...                0   \n",
       "3  https://www.recetasgratis.net/receta-de-croque...                0   \n",
       "4  https://www.recetasgratis.net/receta-de-masa-p...                0   \n",
       "\n",
       "   Num_reviews Fecha_modificacion  \\\n",
       "0            0         2020-04-06   \n",
       "1            0         2020-03-27   \n",
       "2            0         2020-03-25   \n",
       "3            0         2020-03-24   \n",
       "4            0         2020-03-03   \n",
       "\n",
       "                                        Ingredientes  \n",
       "0  4 trotillas de harina,2 tazas de frijoles negr...  \n",
       "1  500 gramos de carne molida,1 papa mediana,2 cu...  \n",
       "2  10 tortillas de harina para burritos,500 gramo...  \n",
       "3  1 pechuga de pollo cocida y troceada,1 pellizc...  \n",
       "4  3 tazas de harina de trigo (420 gramos),1 pizc...  "
      ]
     },
     "execution_count": 1,
     "metadata": {},
     "output_type": "execute_result"
    }
   ],
   "source": [
    "import pandas as pd\n",
    "\n",
    "# Carga el archivo CSV con '|' como delimitador\n",
    "df = pd.read_csv('r.csv', sep='|')\n",
    "\n",
    "# Muestra las primeras filas del DataFrame\n",
    "df.head()\n"
   ]
  },
  {
   "cell_type": "code",
   "execution_count": 2,
   "id": "356a74d9-9c02-49ad-b350-432cd54b1890",
   "metadata": {},
   "outputs": [],
   "source": [
    "df = df.drop(\"Valoracion\", axis=1)\n",
    "df = df.drop(\"Num_comentarios\", axis=1)\n",
    "df = df.drop(\"Num_reviews\", axis=1)\n",
    "df = df.drop(\"Fecha_modificacion\", axis=1)\n",
    "df = df.drop(\"Tipo\", axis=1)"
   ]
  },
  {
   "cell_type": "code",
   "execution_count": 3,
   "id": "55586c66-94cf-4461-bce1-8efbe8db6ba1",
   "metadata": {},
   "outputs": [
    {
     "data": {
      "text/html": [
       "<div>\n",
       "<style scoped>\n",
       "    .dataframe tbody tr th:only-of-type {\n",
       "        vertical-align: middle;\n",
       "    }\n",
       "\n",
       "    .dataframe tbody tr th {\n",
       "        vertical-align: top;\n",
       "    }\n",
       "\n",
       "    .dataframe thead th {\n",
       "        text-align: right;\n",
       "    }\n",
       "</style>\n",
       "<table border=\"1\" class=\"dataframe\">\n",
       "  <thead>\n",
       "    <tr style=\"text-align: right;\">\n",
       "      <th></th>\n",
       "      <th>Id</th>\n",
       "      <th>Categoria</th>\n",
       "      <th>Nombre</th>\n",
       "      <th>Dificultad</th>\n",
       "      <th>Num_comensales</th>\n",
       "      <th>Tiempo</th>\n",
       "      <th>Link_receta</th>\n",
       "      <th>Ingredientes</th>\n",
       "    </tr>\n",
       "  </thead>\n",
       "  <tbody>\n",
       "    <tr>\n",
       "      <th>0</th>\n",
       "      <td>74138</td>\n",
       "      <td>Recetas de Aperitivos y tapas</td>\n",
       "      <td>Receta de Baleadas hondureñas</td>\n",
       "      <td>baja</td>\n",
       "      <td>2.0</td>\n",
       "      <td>10m</td>\n",
       "      <td>https://www.recetasgratis.net/receta-de-balead...</td>\n",
       "      <td>4 trotillas de harina,2 tazas de frijoles negr...</td>\n",
       "    </tr>\n",
       "    <tr>\n",
       "      <th>1</th>\n",
       "      <td>74133</td>\n",
       "      <td>Recetas de Aperitivos y tapas</td>\n",
       "      <td>Receta de Tacos de carne molida</td>\n",
       "      <td>baja</td>\n",
       "      <td>4.0</td>\n",
       "      <td>30m</td>\n",
       "      <td>https://www.recetasgratis.net/receta-de-tacos-...</td>\n",
       "      <td>500 gramos de carne molida,1 papa mediana,2 cu...</td>\n",
       "    </tr>\n",
       "    <tr>\n",
       "      <th>2</th>\n",
       "      <td>74154</td>\n",
       "      <td>Recetas de Aperitivos y tapas</td>\n",
       "      <td>Receta de Burritos norteños</td>\n",
       "      <td>muy baja</td>\n",
       "      <td>5.0</td>\n",
       "      <td>30m</td>\n",
       "      <td>https://www.recetasgratis.net/receta-de-burrit...</td>\n",
       "      <td>10 tortillas de harina para burritos,500 gramo...</td>\n",
       "    </tr>\n",
       "    <tr>\n",
       "      <th>3</th>\n",
       "      <td>74146</td>\n",
       "      <td>Recetas de Aperitivos y tapas</td>\n",
       "      <td>Receta de Croquetas de pollo caseras de la abuela</td>\n",
       "      <td>baja</td>\n",
       "      <td>4.0</td>\n",
       "      <td>45m</td>\n",
       "      <td>https://www.recetasgratis.net/receta-de-croque...</td>\n",
       "      <td>1 pechuga de pollo cocida y troceada,1 pellizc...</td>\n",
       "    </tr>\n",
       "    <tr>\n",
       "      <th>4</th>\n",
       "      <td>74081</td>\n",
       "      <td>Recetas de Aperitivos y tapas</td>\n",
       "      <td>Receta de Masa para empanadas fritas</td>\n",
       "      <td>baja</td>\n",
       "      <td>3.0</td>\n",
       "      <td>30m</td>\n",
       "      <td>https://www.recetasgratis.net/receta-de-masa-p...</td>\n",
       "      <td>3 tazas de harina de trigo (420 gramos),1 pizc...</td>\n",
       "    </tr>\n",
       "  </tbody>\n",
       "</table>\n",
       "</div>"
      ],
      "text/plain": [
       "      Id                      Categoria  \\\n",
       "0  74138  Recetas de Aperitivos y tapas   \n",
       "1  74133  Recetas de Aperitivos y tapas   \n",
       "2  74154  Recetas de Aperitivos y tapas   \n",
       "3  74146  Recetas de Aperitivos y tapas   \n",
       "4  74081  Recetas de Aperitivos y tapas   \n",
       "\n",
       "                                              Nombre Dificultad  \\\n",
       "0                      Receta de Baleadas hondureñas       baja   \n",
       "1                    Receta de Tacos de carne molida       baja   \n",
       "2                        Receta de Burritos norteños   muy baja   \n",
       "3  Receta de Croquetas de pollo caseras de la abuela       baja   \n",
       "4               Receta de Masa para empanadas fritas       baja   \n",
       "\n",
       "   Num_comensales Tiempo                                        Link_receta  \\\n",
       "0             2.0    10m  https://www.recetasgratis.net/receta-de-balead...   \n",
       "1             4.0    30m  https://www.recetasgratis.net/receta-de-tacos-...   \n",
       "2             5.0    30m  https://www.recetasgratis.net/receta-de-burrit...   \n",
       "3             4.0    45m  https://www.recetasgratis.net/receta-de-croque...   \n",
       "4             3.0    30m  https://www.recetasgratis.net/receta-de-masa-p...   \n",
       "\n",
       "                                        Ingredientes  \n",
       "0  4 trotillas de harina,2 tazas de frijoles negr...  \n",
       "1  500 gramos de carne molida,1 papa mediana,2 cu...  \n",
       "2  10 tortillas de harina para burritos,500 gramo...  \n",
       "3  1 pechuga de pollo cocida y troceada,1 pellizc...  \n",
       "4  3 tazas de harina de trigo (420 gramos),1 pizc...  "
      ]
     },
     "execution_count": 3,
     "metadata": {},
     "output_type": "execute_result"
    }
   ],
   "source": [
    "df.head()"
   ]
  },
  {
   "cell_type": "code",
   "execution_count": 4,
   "id": "a1c30d36-a303-49bc-bb7b-a2d4be3dee99",
   "metadata": {},
   "outputs": [],
   "source": [
    "df = df.dropna(subset=[\"Ingredientes\"])"
   ]
  },
  {
   "cell_type": "code",
   "execution_count": 5,
   "id": "b98c9ba1-7c72-4d95-8edd-a3ada123bcce",
   "metadata": {
    "scrolled": true
   },
   "outputs": [
    {
     "data": {
      "text/plain": [
       "Id                   0\n",
       "Categoria            0\n",
       "Nombre               0\n",
       "Dificultad        7386\n",
       "Num_comensales    9305\n",
       "Tiempo            9307\n",
       "Link_receta          0\n",
       "Ingredientes         0\n",
       "dtype: int64"
      ]
     },
     "execution_count": 5,
     "metadata": {},
     "output_type": "execute_result"
    }
   ],
   "source": [
    "df.isnull().sum()"
   ]
  },
  {
   "cell_type": "code",
   "execution_count": 6,
   "id": "7110a8a6-e281-4fed-8aa9-ac11e8eab3df",
   "metadata": {},
   "outputs": [
    {
     "name": "stdout",
     "output_type": "stream",
     "text": [
      "<class 'pandas.core.frame.DataFrame'>\n",
      "Index: 22150 entries, 0 to 22373\n",
      "Data columns (total 8 columns):\n",
      " #   Column          Non-Null Count  Dtype  \n",
      "---  ------          --------------  -----  \n",
      " 0   Id              22150 non-null  int64  \n",
      " 1   Categoria       22150 non-null  object \n",
      " 2   Nombre          22150 non-null  object \n",
      " 3   Dificultad      14764 non-null  object \n",
      " 4   Num_comensales  12845 non-null  float64\n",
      " 5   Tiempo          12843 non-null  object \n",
      " 6   Link_receta     22150 non-null  object \n",
      " 7   Ingredientes    22150 non-null  object \n",
      "dtypes: float64(1), int64(1), object(6)\n",
      "memory usage: 1.5+ MB\n"
     ]
    }
   ],
   "source": [
    "df.info()"
   ]
  },
  {
   "cell_type": "code",
   "execution_count": 7,
   "id": "b7bad794-8976-4a53-8dc1-ce908ce585c5",
   "metadata": {},
   "outputs": [
    {
     "data": {
      "text/plain": [
       "(22150, 8)"
      ]
     },
     "execution_count": 7,
     "metadata": {},
     "output_type": "execute_result"
    }
   ],
   "source": [
    "df.shape"
   ]
  },
  {
   "cell_type": "code",
   "execution_count": 8,
   "id": "b8e50a5d-4f3a-4d6a-9c61-c77fc878b93a",
   "metadata": {},
   "outputs": [],
   "source": [
    "import pandas as pd\n",
    "from antlr4 import *\n",
    "from recipesLexer import recipesLexer\n",
    "from recipesParser import recipesParser"
   ]
  },
  {
   "cell_type": "code",
   "execution_count": 9,
   "id": "7975ea20-c0d9-4daf-a27f-6078f7d71ae3",
   "metadata": {},
   "outputs": [],
   "source": [
    "# Definir una función para usar el parser de ANTLR4\n",
    "def parse_ingredients(query):\n",
    "    input_stream = InputStream(query)\n",
    "    lexer = recipesLexer(input_stream)\n",
    "    stream = CommonTokenStream(lexer)\n",
    "    parser = recipesParser(stream)\n",
    "    tree = parser.query()\n",
    "    \n",
    "    ingredients = []\n",
    "    for child in tree.getChildren():\n",
    "        if isinstance(child, recipesParser.IngredientContext):\n",
    "            ingredients.append(child.getText().lower())\n",
    "    \n",
    "    return ingredients"
   ]
  },
  {
   "cell_type": "code",
   "execution_count": 10,
   "id": "803a7b7c-2240-472e-87a6-9639b773c10d",
   "metadata": {},
   "outputs": [],
   "source": [
    "# Función para filtrar recetas basadas en los ingredientes ingresados por el usuario\n",
    "def filtrar_recetas(query, df):\n",
    "    ingredientes = parse_ingredients(query)\n",
    "    recetas_filtradas = df[df['Ingredientes'].apply(lambda x: all(ing in x.lower() for ing in ingredientes))]\n",
    "    return recetas_filtradas\n",
    "\n",
    "# Ejemplo de consulta ingresada por el usuario\n",
    "consulta_usuario = \"tomate, queso, albahaca, pollo\""
   ]
  },
  {
   "cell_type": "code",
   "execution_count": 11,
   "id": "26adf275-473d-49fb-9180-62698fc15363",
   "metadata": {},
   "outputs": [
    {
     "name": "stdout",
     "output_type": "stream",
     "text": [
      "encontro\n"
     ]
    }
   ],
   "source": [
    "# Filtrar recetas\n",
    "if 'Ingredientes' in df.columns:\n",
    "    recetas = filtrar_recetas(consulta_usuario, df)\n",
    "    # Ajustar 'title' según el nombre de la columna en tu DataFrame, por ejemplo 'recipe_name'\n",
    "    print('encontro')\n",
    "else:\n",
    "    print(\"La columna 'all_ingredients' no existe en el DataFrame. Asegúrate de haberla creado correctamente.\")"
   ]
  },
  {
   "cell_type": "code",
   "execution_count": 12,
   "id": "3d4fddf6-7f05-4da2-a556-930d7965259d",
   "metadata": {},
   "outputs": [
    {
     "data": {
      "text/html": [
       "<div>\n",
       "<style scoped>\n",
       "    .dataframe tbody tr th:only-of-type {\n",
       "        vertical-align: middle;\n",
       "    }\n",
       "\n",
       "    .dataframe tbody tr th {\n",
       "        vertical-align: top;\n",
       "    }\n",
       "\n",
       "    .dataframe thead th {\n",
       "        text-align: right;\n",
       "    }\n",
       "</style>\n",
       "<table border=\"1\" class=\"dataframe\">\n",
       "  <thead>\n",
       "    <tr style=\"text-align: right;\">\n",
       "      <th></th>\n",
       "      <th>Nombre</th>\n",
       "    </tr>\n",
       "  </thead>\n",
       "  <tbody>\n",
       "    <tr>\n",
       "      <th>3076</th>\n",
       "      <td>Receta de Pollo empanado a la napolitana</td>\n",
       "    </tr>\n",
       "    <tr>\n",
       "      <th>3149</th>\n",
       "      <td>Receta de Pechugas de pollo rellenas al horno</td>\n",
       "    </tr>\n",
       "    <tr>\n",
       "      <th>3411</th>\n",
       "      <td>Receta de Pechuga de pollo con pesto de tomate</td>\n",
       "    </tr>\n",
       "    <tr>\n",
       "      <th>3533</th>\n",
       "      <td>Receta de Pechugas de pollo napolitanas</td>\n",
       "    </tr>\n",
       "    <tr>\n",
       "      <th>7799</th>\n",
       "      <td>Receta de Ensalada templada de pollo y bacon</td>\n",
       "    </tr>\n",
       "    <tr>\n",
       "      <th>8472</th>\n",
       "      <td>Receta de Curanto en olla</td>\n",
       "    </tr>\n",
       "    <tr>\n",
       "      <th>12989</th>\n",
       "      <td>Receta de Lasaña mexicana con tortillas</td>\n",
       "    </tr>\n",
       "    <tr>\n",
       "      <th>13057</th>\n",
       "      <td>Receta de Lasaña cremosa de pollo</td>\n",
       "    </tr>\n",
       "    <tr>\n",
       "      <th>13181</th>\n",
       "      <td>Receta de Parppadelle con verduras y pollo</td>\n",
       "    </tr>\n",
       "    <tr>\n",
       "      <th>13279</th>\n",
       "      <td>Receta de Torta de macarrones con pollo</td>\n",
       "    </tr>\n",
       "    <tr>\n",
       "      <th>13514</th>\n",
       "      <td>Receta de Espaguetis con pollo y queso parmesano</td>\n",
       "    </tr>\n",
       "    <tr>\n",
       "      <th>19754</th>\n",
       "      <td>Receta de Crema de tomate y albahaca</td>\n",
       "    </tr>\n",
       "    <tr>\n",
       "      <th>19881</th>\n",
       "      <td>Receta de Sopa mexicana</td>\n",
       "    </tr>\n",
       "  </tbody>\n",
       "</table>\n",
       "</div>"
      ],
      "text/plain": [
       "                                                 Nombre\n",
       "3076           Receta de Pollo empanado a la napolitana\n",
       "3149      Receta de Pechugas de pollo rellenas al horno\n",
       "3411     Receta de Pechuga de pollo con pesto de tomate\n",
       "3533            Receta de Pechugas de pollo napolitanas\n",
       "7799       Receta de Ensalada templada de pollo y bacon\n",
       "8472                          Receta de Curanto en olla\n",
       "12989           Receta de Lasaña mexicana con tortillas\n",
       "13057                 Receta de Lasaña cremosa de pollo\n",
       "13181        Receta de Parppadelle con verduras y pollo\n",
       "13279           Receta de Torta de macarrones con pollo\n",
       "13514  Receta de Espaguetis con pollo y queso parmesano\n",
       "19754              Receta de Crema de tomate y albahaca\n",
       "19881                           Receta de Sopa mexicana"
      ]
     },
     "execution_count": 12,
     "metadata": {},
     "output_type": "execute_result"
    }
   ],
   "source": [
    "df_recetas = pd.DataFrame(recetas, columns=['Nombre'])\n",
    "df_recetas"
   ]
  },
  {
   "cell_type": "code",
   "execution_count": 13,
   "id": "2b5c47d3-f133-4896-9489-fc5cf93a5056",
   "metadata": {},
   "outputs": [
    {
     "data": {
      "text/html": [
       "<div>\n",
       "<style scoped>\n",
       "    .dataframe tbody tr th:only-of-type {\n",
       "        vertical-align: middle;\n",
       "    }\n",
       "\n",
       "    .dataframe tbody tr th {\n",
       "        vertical-align: top;\n",
       "    }\n",
       "\n",
       "    .dataframe thead th {\n",
       "        text-align: right;\n",
       "    }\n",
       "</style>\n",
       "<table border=\"1\" class=\"dataframe\">\n",
       "  <thead>\n",
       "    <tr style=\"text-align: right;\">\n",
       "      <th></th>\n",
       "      <th>Ingredientes</th>\n",
       "    </tr>\n",
       "  </thead>\n",
       "  <tbody>\n",
       "    <tr>\n",
       "      <th>3076</th>\n",
       "      <td>Muslos o contramuslos de pollo,4 tomates,4 cuc...</td>\n",
       "    </tr>\n",
       "    <tr>\n",
       "      <th>3149</th>\n",
       "      <td>4 Pechugas de pollo,1 bote de tomate frito,2 H...</td>\n",
       "    </tr>\n",
       "    <tr>\n",
       "      <th>3411</th>\n",
       "      <td>1 pechuga de pollo mediana.,4 unidades de toma...</td>\n",
       "    </tr>\n",
       "    <tr>\n",
       "      <th>3533</th>\n",
       "      <td>350 gramos de pechuga de pollo,4 unidades de t...</td>\n",
       "    </tr>\n",
       "    <tr>\n",
       "      <th>7799</th>\n",
       "      <td>4 unidades de pechuga de pollo,200 gramos de B...</td>\n",
       "    </tr>\n",
       "    <tr>\n",
       "      <th>8472</th>\n",
       "      <td>1½ unidades de Repollo verde,25 unidades de pa...</td>\n",
       "    </tr>\n",
       "    <tr>\n",
       "      <th>12989</th>\n",
       "      <td>16 piezas de Tortilla de maíz,1 pechuga de pol...</td>\n",
       "    </tr>\n",
       "    <tr>\n",
       "      <th>13057</th>\n",
       "      <td>2 tazas de Pechugas de pollo deshebradas,225 g...</td>\n",
       "    </tr>\n",
       "    <tr>\n",
       "      <th>13181</th>\n",
       "      <td>1 unidad de calabacín mediano,1 unidad de zana...</td>\n",
       "    </tr>\n",
       "    <tr>\n",
       "      <th>13279</th>\n",
       "      <td>250 gramos de macarrones,1 paquete de pollo (e...</td>\n",
       "    </tr>\n",
       "    <tr>\n",
       "      <th>13514</th>\n",
       "      <td>2 pechuga de pollo,500 gramos de espaguetis,6 ...</td>\n",
       "    </tr>\n",
       "    <tr>\n",
       "      <th>19754</th>\n",
       "      <td>5 unidades de tomates rojos.,2 unidades de ceb...</td>\n",
       "    </tr>\n",
       "    <tr>\n",
       "      <th>19881</th>\n",
       "      <td>1 unidad de pechuga de pollo,1 unidad de cebol...</td>\n",
       "    </tr>\n",
       "  </tbody>\n",
       "</table>\n",
       "</div>"
      ],
      "text/plain": [
       "                                            Ingredientes\n",
       "3076   Muslos o contramuslos de pollo,4 tomates,4 cuc...\n",
       "3149   4 Pechugas de pollo,1 bote de tomate frito,2 H...\n",
       "3411   1 pechuga de pollo mediana.,4 unidades de toma...\n",
       "3533   350 gramos de pechuga de pollo,4 unidades de t...\n",
       "7799   4 unidades de pechuga de pollo,200 gramos de B...\n",
       "8472   1½ unidades de Repollo verde,25 unidades de pa...\n",
       "12989  16 piezas de Tortilla de maíz,1 pechuga de pol...\n",
       "13057  2 tazas de Pechugas de pollo deshebradas,225 g...\n",
       "13181  1 unidad de calabacín mediano,1 unidad de zana...\n",
       "13279  250 gramos de macarrones,1 paquete de pollo (e...\n",
       "13514  2 pechuga de pollo,500 gramos de espaguetis,6 ...\n",
       "19754  5 unidades de tomates rojos.,2 unidades de ceb...\n",
       "19881  1 unidad de pechuga de pollo,1 unidad de cebol..."
      ]
     },
     "execution_count": 13,
     "metadata": {},
     "output_type": "execute_result"
    }
   ],
   "source": [
    "df_rec = pd.DataFrame(recetas, columns=['Ingredientes'])\n",
    "df_rec"
   ]
  },
  {
   "cell_type": "code",
   "execution_count": 14,
   "id": "59c80bd0-22ba-4113-8a45-c0f65bda2bbf",
   "metadata": {},
   "outputs": [
    {
     "data": {
      "application/vnd.jupyter.widget-view+json": {
       "model_id": "0081f447c37d45f3ba8707c03c0fde8d",
       "version_major": 2,
       "version_minor": 0
      },
      "text/plain": [
       "Button(description='Pollo', style=ButtonStyle())"
      ]
     },
     "metadata": {},
     "output_type": "display_data"
    },
    {
     "data": {
      "application/vnd.jupyter.widget-view+json": {
       "model_id": "ba151fa5e7a644cb9a5d0605720f39e3",
       "version_major": 2,
       "version_minor": 0
      },
      "text/plain": [
       "Button(description='Zanahoria', style=ButtonStyle())"
      ]
     },
     "metadata": {},
     "output_type": "display_data"
    },
    {
     "data": {
      "application/vnd.jupyter.widget-view+json": {
       "model_id": "edb7748806904ab9a9b312fc164eb238",
       "version_major": 2,
       "version_minor": 0
      },
      "text/plain": [
       "Button(description='Papa', style=ButtonStyle())"
      ]
     },
     "metadata": {},
     "output_type": "display_data"
    },
    {
     "data": {
      "application/vnd.jupyter.widget-view+json": {
       "model_id": "794eee3a18c24511be8b61a9d03d79e4",
       "version_major": 2,
       "version_minor": 0
      },
      "text/plain": [
       "Label(value='Ingredientes seleccionados: ')"
      ]
     },
     "metadata": {},
     "output_type": "display_data"
    }
   ],
   "source": [
    "import ipywidgets as widgets\n",
    "from IPython.display import display\n",
    "\n",
    "# Lista para almacenar los ingredientes seleccionados\n",
    "selected_ingredients = []\n",
    "\n",
    "# Función para agregar ingredientes y desactivar botones\n",
    "def add_ingredient(button):\n",
    "    ingredient = button.description\n",
    "    if ingredient not in selected_ingredients:\n",
    "        selected_ingredients.append(ingredient)\n",
    "        button.disabled = True\n",
    "        ingredients_label.value = \"Ingredientes seleccionados: \" + \", \".join(selected_ingredients)\n",
    "\n",
    "# Crear botones para los ingredientes\n",
    "button_pollo = widgets.Button(description=\"Pollo\")\n",
    "button_zanahoria = widgets.Button(description=\"Zanahoria\")\n",
    "button_papa = widgets.Button(description=\"Papa\")\n",
    "\n",
    "# Asignar funciones a los botones\n",
    "button_pollo.on_click(add_ingredient)\n",
    "button_zanahoria.on_click(add_ingredient)\n",
    "button_papa.on_click(add_ingredient)\n",
    "\n",
    "# Label para mostrar ingredientes seleccionados\n",
    "ingredients_label = widgets.Label(value=\"Ingredientes seleccionados: \")\n",
    "\n",
    "# Mostrar botones y label\n",
    "display(button_pollo, button_zanahoria, button_papa, ingredients_label)\n"
   ]
  },
  {
   "cell_type": "code",
   "execution_count": 15,
   "id": "63d85a5e-e12b-4d7f-9662-9e28d2e9208c",
   "metadata": {},
   "outputs": [
    {
     "name": "stdout",
     "output_type": "stream",
     "text": [
      "Requirement already satisfied: kivy in d:\\anaconda3\\lib\\site-packages (2.3.0)\n",
      "Requirement already satisfied: Kivy-Garden>=0.1.4 in d:\\anaconda3\\lib\\site-packages (from kivy) (0.1.5)\n",
      "Requirement already satisfied: docutils in d:\\anaconda3\\lib\\site-packages (from kivy) (0.18.1)\n",
      "Requirement already satisfied: pygments in c:\\users\\yukihana\\appdata\\roaming\\python\\python311\\site-packages (from kivy) (2.14.0)\n",
      "Requirement already satisfied: kivy-deps.angle~=0.4.0 in d:\\anaconda3\\lib\\site-packages (from kivy) (0.4.0)\n",
      "Requirement already satisfied: kivy-deps.sdl2~=0.7.0 in d:\\anaconda3\\lib\\site-packages (from kivy) (0.7.0)\n",
      "Requirement already satisfied: kivy-deps.glew~=0.3.1 in d:\\anaconda3\\lib\\site-packages (from kivy) (0.3.1)\n",
      "Requirement already satisfied: pypiwin32 in d:\\anaconda3\\lib\\site-packages (from kivy) (223)\n",
      "Requirement already satisfied: requests in d:\\anaconda3\\lib\\site-packages (from Kivy-Garden>=0.1.4->kivy) (2.31.0)\n",
      "Requirement already satisfied: pywin32>=223 in d:\\anaconda3\\lib\\site-packages (from pypiwin32->kivy) (305.1)\n",
      "Requirement already satisfied: charset-normalizer<4,>=2 in d:\\anaconda3\\lib\\site-packages (from requests->Kivy-Garden>=0.1.4->kivy) (2.0.4)\n",
      "Requirement already satisfied: idna<4,>=2.5 in d:\\anaconda3\\lib\\site-packages (from requests->Kivy-Garden>=0.1.4->kivy) (3.4)\n",
      "Requirement already satisfied: urllib3<3,>=1.21.1 in d:\\anaconda3\\lib\\site-packages (from requests->Kivy-Garden>=0.1.4->kivy) (2.0.7)\n",
      "Requirement already satisfied: certifi>=2017.4.17 in d:\\anaconda3\\lib\\site-packages (from requests->Kivy-Garden>=0.1.4->kivy) (2024.6.2)\n"
     ]
    }
   ],
   "source": [
    "!pip install kivy"
   ]
  },
  {
   "cell_type": "code",
   "execution_count": 16,
   "id": "10ed24d2-9890-4765-b1d2-d86412648cdf",
   "metadata": {},
   "outputs": [
    {
     "name": "stderr",
     "output_type": "stream",
     "text": [
      "[INFO   ] [Logger      ] Record log in C:\\Users\\Yukihana\\.kivy\\logs\\kivy_24-06-14_1.txt\n",
      "[INFO   ] [deps        ] Successfully imported \"kivy_deps.angle\" 0.4.0\n",
      "[INFO   ] [deps        ] Successfully imported \"kivy_deps.glew\" 0.3.1\n",
      "[INFO   ] [deps        ] Successfully imported \"kivy_deps.sdl2\" 0.7.0\n",
      "[INFO   ] [Kivy        ] v2.3.0\n",
      "[INFO   ] [Kivy        ] Installed at \"D:\\anaconda3\\Lib\\site-packages\\kivy\\__init__.py\"\n",
      "[INFO   ] [Python      ] v3.11.7 | packaged by Anaconda, Inc. | (main, Dec 15 2023, 18:05:47) [MSC v.1916 64 bit (AMD64)]\n",
      "[INFO   ] [Python      ] Interpreter at \"D:\\anaconda3\\python.exe\"\n",
      "[INFO   ] [Logger      ] Purge log fired. Processing...\n",
      "[INFO   ] [Logger      ] Purge finished!\n",
      "[INFO   ] [Factory     ] 195 symbols loaded\n",
      "[INFO   ] [Image       ] Providers: img_tex, img_dds, img_sdl2, img_pil (img_ffpyplayer ignored)\n",
      "[INFO   ] [Text        ] Provider: sdl2\n"
     ]
    },
    {
     "ename": "OSError",
     "evalue": "source code not available",
     "output_type": "error",
     "traceback": [
      "\u001b[1;31m---------------------------------------------------------------------------\u001b[0m",
      "\u001b[1;31mOSError\u001b[0m                                   Traceback (most recent call last)",
      "Cell \u001b[1;32mIn[16], line 38\u001b[0m\n\u001b[0;32m     35\u001b[0m             \u001b[38;5;28mself\u001b[39m\u001b[38;5;241m.\u001b[39mlabel\u001b[38;5;241m.\u001b[39mtext \u001b[38;5;241m=\u001b[39m \u001b[38;5;124m\"\u001b[39m\u001b[38;5;124mIngredientes seleccionados: \u001b[39m\u001b[38;5;124m\"\u001b[39m \u001b[38;5;241m+\u001b[39m \u001b[38;5;124m\"\u001b[39m\u001b[38;5;124m, \u001b[39m\u001b[38;5;124m\"\u001b[39m\u001b[38;5;241m.\u001b[39mjoin(\u001b[38;5;28mself\u001b[39m\u001b[38;5;241m.\u001b[39mselected_ingredients)\n\u001b[0;32m     37\u001b[0m \u001b[38;5;28;01mif\u001b[39;00m \u001b[38;5;18m__name__\u001b[39m \u001b[38;5;241m==\u001b[39m \u001b[38;5;124m'\u001b[39m\u001b[38;5;124m__main__\u001b[39m\u001b[38;5;124m'\u001b[39m:\n\u001b[1;32m---> 38\u001b[0m     \u001b[43mIngredientApp\u001b[49m\u001b[43m(\u001b[49m\u001b[43m)\u001b[49m\u001b[38;5;241;43m.\u001b[39;49m\u001b[43mrun\u001b[49m\u001b[43m(\u001b[49m\u001b[43m)\u001b[49m\n",
      "File \u001b[1;32mD:\\anaconda3\\Lib\\site-packages\\kivy\\app.py:955\u001b[0m, in \u001b[0;36mApp.run\u001b[1;34m(self)\u001b[0m\n\u001b[0;32m    952\u001b[0m \u001b[38;5;28;01mdef\u001b[39;00m \u001b[38;5;21mrun\u001b[39m(\u001b[38;5;28mself\u001b[39m):\n\u001b[0;32m    953\u001b[0m \u001b[38;5;250m    \u001b[39m\u001b[38;5;124;03m'''Launches the app in standalone mode.\u001b[39;00m\n\u001b[0;32m    954\u001b[0m \u001b[38;5;124;03m    '''\u001b[39;00m\n\u001b[1;32m--> 955\u001b[0m     \u001b[38;5;28;43mself\u001b[39;49m\u001b[38;5;241;43m.\u001b[39;49m\u001b[43m_run_prepare\u001b[49m\u001b[43m(\u001b[49m\u001b[43m)\u001b[49m\n\u001b[0;32m    956\u001b[0m     runTouchApp()\n\u001b[0;32m    957\u001b[0m     \u001b[38;5;28mself\u001b[39m\u001b[38;5;241m.\u001b[39m_stop()\n",
      "File \u001b[1;32mD:\\anaconda3\\Lib\\site-packages\\kivy\\app.py:924\u001b[0m, in \u001b[0;36mApp._run_prepare\u001b[1;34m(self)\u001b[0m\n\u001b[0;32m    922\u001b[0m \u001b[38;5;28;01mif\u001b[39;00m \u001b[38;5;129;01mnot\u001b[39;00m \u001b[38;5;28mself\u001b[39m\u001b[38;5;241m.\u001b[39mbuilt:\n\u001b[0;32m    923\u001b[0m     \u001b[38;5;28mself\u001b[39m\u001b[38;5;241m.\u001b[39mload_config()\n\u001b[1;32m--> 924\u001b[0m     \u001b[38;5;28;43mself\u001b[39;49m\u001b[38;5;241;43m.\u001b[39;49m\u001b[43mload_kv\u001b[49m\u001b[43m(\u001b[49m\u001b[43mfilename\u001b[49m\u001b[38;5;241;43m=\u001b[39;49m\u001b[38;5;28;43mself\u001b[39;49m\u001b[38;5;241;43m.\u001b[39;49m\u001b[43mkv_file\u001b[49m\u001b[43m)\u001b[49m\n\u001b[0;32m    925\u001b[0m     root \u001b[38;5;241m=\u001b[39m \u001b[38;5;28mself\u001b[39m\u001b[38;5;241m.\u001b[39mbuild()\n\u001b[0;32m    926\u001b[0m     \u001b[38;5;28;01mif\u001b[39;00m root:\n",
      "File \u001b[1;32mD:\\anaconda3\\Lib\\site-packages\\kivy\\app.py:677\u001b[0m, in \u001b[0;36mApp.load_kv\u001b[1;34m(self, filename)\u001b[0m\n\u001b[0;32m    675\u001b[0m \u001b[38;5;28;01melse\u001b[39;00m:\n\u001b[0;32m    676\u001b[0m     \u001b[38;5;28;01mtry\u001b[39;00m:\n\u001b[1;32m--> 677\u001b[0m         default_kv_directory \u001b[38;5;241m=\u001b[39m dirname(\u001b[43mgetfile\u001b[49m\u001b[43m(\u001b[49m\u001b[38;5;28;43mself\u001b[39;49m\u001b[38;5;241;43m.\u001b[39;49m\u001b[38;5;18;43m__class__\u001b[39;49m\u001b[43m)\u001b[49m)\n\u001b[0;32m    678\u001b[0m         \u001b[38;5;28;01mif\u001b[39;00m default_kv_directory \u001b[38;5;241m==\u001b[39m \u001b[38;5;124m'\u001b[39m\u001b[38;5;124m'\u001b[39m:\n\u001b[0;32m    679\u001b[0m             default_kv_directory \u001b[38;5;241m=\u001b[39m \u001b[38;5;124m'\u001b[39m\u001b[38;5;124m.\u001b[39m\u001b[38;5;124m'\u001b[39m\n",
      "File \u001b[1;32mD:\\anaconda3\\Lib\\site-packages\\torch\\package\\package_importer.py:698\u001b[0m, in \u001b[0;36m_patched_getfile\u001b[1;34m(object)\u001b[0m\n\u001b[0;32m    696\u001b[0m     \u001b[38;5;28;01mif\u001b[39;00m \u001b[38;5;28mobject\u001b[39m\u001b[38;5;241m.\u001b[39m\u001b[38;5;18m__module__\u001b[39m \u001b[38;5;129;01min\u001b[39;00m _package_imported_modules:\n\u001b[0;32m    697\u001b[0m         \u001b[38;5;28;01mreturn\u001b[39;00m _package_imported_modules[\u001b[38;5;28mobject\u001b[39m\u001b[38;5;241m.\u001b[39m\u001b[38;5;18m__module__\u001b[39m]\u001b[38;5;241m.\u001b[39m\u001b[38;5;18m__file__\u001b[39m\n\u001b[1;32m--> 698\u001b[0m \u001b[38;5;28;01mreturn\u001b[39;00m \u001b[43m_orig_getfile\u001b[49m\u001b[43m(\u001b[49m\u001b[38;5;28;43mobject\u001b[39;49m\u001b[43m)\u001b[49m\n",
      "File \u001b[1;32mD:\\anaconda3\\Lib\\inspect.py:908\u001b[0m, in \u001b[0;36mgetfile\u001b[1;34m(object)\u001b[0m\n\u001b[0;32m    906\u001b[0m             \u001b[38;5;28;01mreturn\u001b[39;00m module\u001b[38;5;241m.\u001b[39m\u001b[38;5;18m__file__\u001b[39m\n\u001b[0;32m    907\u001b[0m         \u001b[38;5;28;01mif\u001b[39;00m \u001b[38;5;28mobject\u001b[39m\u001b[38;5;241m.\u001b[39m\u001b[38;5;18m__module__\u001b[39m \u001b[38;5;241m==\u001b[39m \u001b[38;5;124m'\u001b[39m\u001b[38;5;124m__main__\u001b[39m\u001b[38;5;124m'\u001b[39m:\n\u001b[1;32m--> 908\u001b[0m             \u001b[38;5;28;01mraise\u001b[39;00m \u001b[38;5;167;01mOSError\u001b[39;00m(\u001b[38;5;124m'\u001b[39m\u001b[38;5;124msource code not available\u001b[39m\u001b[38;5;124m'\u001b[39m)\n\u001b[0;32m    909\u001b[0m     \u001b[38;5;28;01mraise\u001b[39;00m \u001b[38;5;167;01mTypeError\u001b[39;00m(\u001b[38;5;124m'\u001b[39m\u001b[38;5;132;01m{!r}\u001b[39;00m\u001b[38;5;124m is a built-in class\u001b[39m\u001b[38;5;124m'\u001b[39m\u001b[38;5;241m.\u001b[39mformat(\u001b[38;5;28mobject\u001b[39m))\n\u001b[0;32m    910\u001b[0m \u001b[38;5;28;01mif\u001b[39;00m ismethod(\u001b[38;5;28mobject\u001b[39m):\n",
      "\u001b[1;31mOSError\u001b[0m: source code not available"
     ]
    }
   ],
   "source": [
    "import kivy\n",
    "from kivy.app import App\n",
    "from kivy.uix.button import Button\n",
    "from kivy.uix.boxlayout import BoxLayout\n",
    "from kivy.uix.label import Label\n",
    "\n",
    "class IngredientApp(App):\n",
    "    def build(self):\n",
    "        self.selected_ingredients = []\n",
    "        self.layout = BoxLayout(orientation='vertical')\n",
    "\n",
    "        # Label to display selected ingredients\n",
    "        self.label = Label(text=\"Ingredientes seleccionados: \")\n",
    "        self.layout.add_widget(self.label)\n",
    "\n",
    "        # Create buttons\n",
    "        self.buttons = {\n",
    "            'Pollo': Button(text='Pollo'),\n",
    "            'Zanahoria': Button(text='Zanahoria'),\n",
    "            'Papa': Button(text='Papa')\n",
    "        }\n",
    "\n",
    "        # Bind buttons to the function and add to layout\n",
    "        for key, button in self.buttons.items():\n",
    "            button.bind(on_press=self.add_ingredient)\n",
    "            self.layout.add_widget(button)\n",
    "\n",
    "        return self.layout\n",
    "\n",
    "    def add_ingredient(self, instance):\n",
    "        ingredient = instance.text\n",
    "        if ingredient not in self.selected_ingredients:\n",
    "            self.selected_ingredients.append(ingredient)\n",
    "            instance.disabled = True\n",
    "            self.label.text = \"Ingredientes seleccionados: \" + \", \".join(self.selected_ingredients)\n",
    "\n",
    "if __name__ == '__main__':\n",
    "    IngredientApp().run()\n"
   ]
  },
  {
   "cell_type": "code",
   "execution_count": null,
   "id": "0740877d-9440-4216-b262-4df756247d6b",
   "metadata": {},
   "outputs": [],
   "source": []
  }
 ],
 "metadata": {
  "kernelspec": {
   "display_name": "Python 3 (ipykernel)",
   "language": "python",
   "name": "python3"
  },
  "language_info": {
   "codemirror_mode": {
    "name": "ipython",
    "version": 3
   },
   "file_extension": ".py",
   "mimetype": "text/x-python",
   "name": "python",
   "nbconvert_exporter": "python",
   "pygments_lexer": "ipython3",
   "version": "3.11.7"
  }
 },
 "nbformat": 4,
 "nbformat_minor": 5
}
